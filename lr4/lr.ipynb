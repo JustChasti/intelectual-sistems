{
 "cells": [
  {
   "cell_type": "code",
   "execution_count": 12,
   "metadata": {},
   "outputs": [
    {
     "data": {
      "image/png": "[encoded data removed]",
      "text/plain": [
       "<Figure size 432x288 with 1 Axes>"
      ]
     },
     "metadata": {
      "needs_background": "light"
     },
     "output_type": "display_data"
    },
    {
     "name": "stdout",
     "output_type": "stream",
     "text": [
      "5\n",
      "Epoch 1/5\n",
      "469/469 [==============================] - 3s 5ms/step - loss: 0.3126 - accuracy: 0.9118\n",
      "Epoch 2/5\n",
      "469/469 [==============================] - 2s 5ms/step - loss: 0.1347 - accuracy: 0.9609\n",
      "Epoch 3/5\n",
      "469/469 [==============================] - 2s 5ms/step - loss: 0.0918 - accuracy: 0.9731\n",
      "Epoch 4/5\n",
      "469/469 [==============================] - 2s 5ms/step - loss: 0.0682 - accuracy: 0.9799\n",
      "Epoch 5/5\n",
      "469/469 [==============================] - 2s 5ms/step - loss: 0.0527 - accuracy: 0.9844\n",
      "313/313 [==============================] - 1s 3ms/step - loss: 0.0747 - accuracy: 0.9763\n",
      "test_acc: 0.9763000011444092 adam\n",
      "Epoch 1/5\n",
      "469/469 [==============================] - 3s 4ms/step - loss: 1.1245 - accuracy: 0.7325\n",
      "Epoch 2/5\n",
      "469/469 [==============================] - 2s 5ms/step - loss: 0.5333 - accuracy: 0.8672\n",
      "Epoch 3/5\n",
      "469/469 [==============================] - 3s 6ms/step - loss: 0.4274 - accuracy: 0.8864\n",
      "Epoch 4/5\n",
      "469/469 [==============================] - 2s 5ms/step - loss: 0.3797 - accuracy: 0.8963\n",
      "Epoch 5/5\n",
      "469/469 [==============================] - 2s 4ms/step - loss: 0.3507 - accuracy: 0.9033\n",
      "313/313 [==============================] - 1s 2ms/step - loss: 0.3233 - accuracy: 0.9121\n",
      "test_acc: 0.9121000170707703 sgd\n",
      "Epoch 1/5\n",
      "469/469 [==============================] - 3s 5ms/step - loss: 0.2921 - accuracy: 0.9173\n",
      "Epoch 2/5\n",
      "469/469 [==============================] - 3s 6ms/step - loss: 0.1269 - accuracy: 0.9633\n",
      "Epoch 3/5\n",
      "469/469 [==============================] - 3s 6ms/step - loss: 0.0859 - accuracy: 0.9745\n",
      "Epoch 4/5\n",
      "469/469 [==============================] - 3s 6ms/step - loss: 0.0645 - accuracy: 0.9809\n",
      "Epoch 5/5\n",
      "469/469 [==============================] - 3s 6ms/step - loss: 0.0502 - accuracy: 0.9854\n",
      "313/313 [==============================] - 1s 3ms/step - loss: 0.0807 - accuracy: 0.9770\n",
      "test_acc: 0.9769999980926514 rms\n",
      "Epoch 1/5\n",
      "469/469 [==============================] - 3s 5ms/step - loss: 1.0086 - accuracy: 0.8213\n",
      "Epoch 2/5\n",
      "469/469 [==============================] - 3s 5ms/step - loss: 0.5608 - accuracy: 0.8665\n",
      "Epoch 3/5\n",
      "469/469 [==============================] - 2s 5ms/step - loss: 0.5996 - accuracy: 0.8620\n",
      "Epoch 4/5\n",
      "469/469 [==============================] - 2s 5ms/step - loss: 0.5905 - accuracy: 0.8676\n",
      "Epoch 5/5\n",
      "469/469 [==============================] - 2s 5ms/step - loss: 0.6167 - accuracy: 0.8598\n",
      "313/313 [==============================] - 1s 3ms/step - loss: 0.7129 - accuracy: 0.8307\n",
      "test_acc: 0.8306999802589417 adam2\n"
     ]
    }
   ],
   "source": [
    "import tensorflow as tf\n",
    "import matplotlib.pyplot as plt\n",
    "import numpy as np\n",
    "import cv2\n",
    "from tensorflow.keras.utils import to_categorical\n",
    "from tensorflow.keras.layers import Dense, Activation, Flatten\n",
    "from tensorflow.keras.models import Sequential\n",
    "from tensorflow.keras.optimizers import Adam\n",
    "from PIL import Image\n",
    "from numpy import asarray\n",
    "\n",
    "\n",
    "def build(optim):\n",
    "    model = Sequential()\n",
    "    model.add(Flatten())\n",
    "    model.add(Dense(256, activation=\"relu\"))\n",
    "    model.add(Dense(10, activation=\"softmax\"))\n",
    "    model.compile(optimizer=optim, loss='categorical_crossentropy', metrics=['accuracy'])\n",
    "    return model\n",
    "\n",
    "\n",
    "def build_adam2():  # измененный оптимизатор adam изменил скорость обучения\n",
    "    model = Sequential()\n",
    "    model.add(Flatten())\n",
    "    model.add(Dense(256, activation=\"relu\"))\n",
    "    model.add(Dense(10, activation=\"softmax\"))\n",
    "    myAdam = Adam(learning_rate=0.1)\n",
    "    model.compile(optimizer=myAdam, loss='categorical_crossentropy', metrics=['accuracy'])\n",
    "    return model\n",
    "\n",
    "\n",
    "def image_to_data(path, num):\n",
    "    img = Image.open(path)\n",
    "    numpydata = asarray(img)[:, :, 0]\n",
    "    res = np.array([np.uint8(num), np.uint8(num)])\n",
    "    test_label = to_categorical(res, num_classes=10)\n",
    "    test_image = np.array([numpydata, numpydata]) / 255.0\n",
    "    return test_image, test_label\n",
    "\n",
    "\n",
    "mnist = tf.keras.datasets.mnist\n",
    "(train_images, train_labels), (test_images, test_labels) = mnist.load_data()\n",
    "\n",
    "rain_images = train_images / 255.0\n",
    "test_images = test_images / 255.0\n",
    "rain_labels = to_categorical(train_labels)\n",
    "test_labels = to_categorical(test_labels)\n",
    "\n",
    "plt.imshow(train_images[0], cmap=plt.cm.binary)\n",
    "plt.show()\n",
    "print(train_labels[0])\n",
    "model1 = build('adam')\n",
    "model1.fit(rain_images, rain_labels, epochs=5, batch_size=128)  # заменил все на rain \n",
    "test_loss, test_acc = model1.evaluate(test_images, test_labels)\n",
    "print('test_acc:', test_acc, 'adam')\n",
    "\n",
    "\n",
    "model = build('sgd')\n",
    "model.fit(rain_images, rain_labels, epochs=5, batch_size=128)\n",
    "test_loss, test_acc = model.evaluate(test_images, test_labels)\n",
    "print('test_acc:', test_acc, 'sgd')\n",
    "\n",
    "model = build('RMSprop')\n",
    "model.fit(rain_images, rain_labels, epochs=5, batch_size=128)\n",
    "test_loss, test_acc = model.evaluate(test_images, test_labels)\n",
    "print('test_acc:', test_acc, 'rms')\n",
    "\n",
    "model = build_adam2()\n",
    "model.fit(rain_images, rain_labels, epochs=5, batch_size=128)\n",
    "test_loss, test_acc = model.evaluate(test_images, test_labels)\n",
    "print('test_acc:', test_acc, 'adam2')\n"
   ]
  },
  {
   "cell_type": "markdown",
   "metadata": {},
   "source": [
    "Далее загрузка собственных данных"
   ]
  },
  {
   "cell_type": "code",
   "execution_count": 32,
   "metadata": {},
   "outputs": [
    {
     "name": "stdout",
     "output_type": "stream",
     "text": [
      "1/1 [==============================] - 0s 62ms/step - loss: 4.4153 - accuracy: 0.0000e+00\n",
      "test_acc: 0.0\n",
      "test_loss: 4.415286064147949\n"
     ]
    }
   ],
   "source": [
    "test_images, test_labels = image_to_data('50.tif', 3)\n",
    "test_loss, test_acc = model1.evaluate(test_images, test_labels)\n",
    "print('test_acc:', test_acc)\n",
    "print('test_loss:', test_loss)"
   ]
  }
 ],
 "metadata": {
  "interpreter": {
   "hash": "df642eef7b43fe7a4a517bca7a97690968a466268416ac555ac71584a4a4c66c"
  },
  "kernelspec": {
   "display_name": "Python 3.9.7 64-bit",
   "language": "python",
   "name": "python3"
  },
  "language_info": {
   "codemirror_mode": {
    "name": "ipython",
    "version": 3
   },
   "file_extension": ".py",
   "mimetype": "text/x-python",
   "name": "python",
   "nbconvert_exporter": "python",
   "pygments_lexer": "ipython3",
   "version": "3.9.7"
  },
  "orig_nbformat": 4
 },
 "nbformat": 4,
 "nbformat_minor": 2
}

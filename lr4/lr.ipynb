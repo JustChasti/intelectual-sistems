{
 "cells": [
  {
   "cell_type": "code",
   "execution_count": 1,
   "metadata": {},
   "outputs": [
    {
     "data": {
      "image/png": "[encoded data removed]",
      "text/plain": [
       "<Figure size 432x288 with 1 Axes>"
      ]
     },
     "metadata": {
      "needs_background": "light"
     },
     "output_type": "display_data"
    },
    {
     "name": "stdout",
     "output_type": "stream",
     "text": [
      "5\n",
      "Epoch 1/5\n",
      "469/469 [==============================] - 2s 4ms/step - loss: 0.3082 - accuracy: 0.9136\n",
      "Epoch 2/5\n",
      "469/469 [==============================] - 2s 4ms/step - loss: 0.1347 - accuracy: 0.9611\n",
      "Epoch 3/5\n",
      "469/469 [==============================] - 2s 4ms/step - loss: 0.0910 - accuracy: 0.9740\n",
      "Epoch 4/5\n",
      "469/469 [==============================] - 2s 4ms/step - loss: 0.0693 - accuracy: 0.9800\n",
      "Epoch 5/5\n",
      "469/469 [==============================] - 2s 4ms/step - loss: 0.0525 - accuracy: 0.9851\n",
      "313/313 [==============================] - 1s 2ms/step - loss: 0.0727 - accuracy: 0.9774\n",
      "test_acc: 0.977400004863739\n",
      "Epoch 1/5\n",
      "469/469 [==============================] - 2s 4ms/step - loss: 1.1391 - accuracy: 0.7316\n",
      "Epoch 2/5\n",
      "469/469 [==============================] - 2s 4ms/step - loss: 0.5428 - accuracy: 0.8674\n",
      "Epoch 3/5\n",
      "469/469 [==============================] - 2s 3ms/step - loss: 0.4334 - accuracy: 0.8865\n",
      "Epoch 4/5\n",
      "469/469 [==============================] - 2s 4ms/step - loss: 0.3843 - accuracy: 0.8965\n",
      "Epoch 5/5\n",
      "469/469 [==============================] - 2s 3ms/step - loss: 0.3546 - accuracy: 0.9032\n",
      "313/313 [==============================] - 1s 2ms/step - loss: 0.3282 - accuracy: 0.9091\n",
      "test_acc: 0.9090999960899353\n",
      "Epoch 1/5\n",
      "469/469 [==============================] - 3s 5ms/step - loss: 0.2875 - accuracy: 0.9197\n",
      "Epoch 2/5\n",
      "469/469 [==============================] - 2s 5ms/step - loss: 0.1244 - accuracy: 0.9637\n",
      "Epoch 3/5\n",
      "469/469 [==============================] - 2s 5ms/step - loss: 0.0849 - accuracy: 0.9755\n",
      "Epoch 4/5\n",
      "469/469 [==============================] - 3s 6ms/step - loss: 0.0634 - accuracy: 0.9812\n",
      "Epoch 5/5\n",
      "469/469 [==============================] - 2s 5ms/step - loss: 0.0499 - accuracy: 0.9853\n",
      "313/313 [==============================] - 1s 2ms/step - loss: 0.0716 - accuracy: 0.9784\n",
      "test_acc: 0.9783999919891357\n",
      "Epoch 1/5\n",
      "469/469 [==============================] - 3s 4ms/step - loss: 0.8491 - accuracy: 0.8426\n",
      "Epoch 2/5\n",
      "469/469 [==============================] - 2s 3ms/step - loss: 0.5075 - accuracy: 0.8832\n",
      "Epoch 3/5\n",
      "469/469 [==============================] - 2s 4ms/step - loss: 0.5267 - accuracy: 0.8822\n",
      "Epoch 4/5\n",
      "469/469 [==============================] - 2s 5ms/step - loss: 0.5595 - accuracy: 0.8760\n",
      "Epoch 5/5\n",
      "469/469 [==============================] - 2s 4ms/step - loss: 0.5857 - accuracy: 0.8561\n",
      "313/313 [==============================] - 1s 2ms/step - loss: 0.5912 - accuracy: 0.8602\n",
      "test_acc: 0.8601999878883362\n"
     ]
    }
   ],
   "source": [
    "import tensorflow as tf\n",
    "import matplotlib.pyplot as plt\n",
    "import numpy as np\n",
    "import cv2\n",
    "from tensorflow.keras.utils import to_categorical\n",
    "from tensorflow.keras.layers import Dense, Activation, Flatten\n",
    "from tensorflow.keras.models import Sequential\n",
    "from tensorflow.keras.optimizers import Adam\n",
    "from PIL import Image\n",
    "from numpy import asarray\n",
    "\n",
    "\n",
    "def build(optim):\n",
    "    model = Sequential()\n",
    "    model.add(Flatten())\n",
    "    model.add(Dense(256, activation=\"relu\"))\n",
    "    model.add(Dense(10, activation=\"softmax\"))\n",
    "    model.compile(optimizer=optim, loss='categorical_crossentropy', metrics=['accuracy'])\n",
    "    return model\n",
    "\n",
    "\n",
    "def build_adam2():  # измененный оптимизатор adam изменил скорость обучения\n",
    "    model = Sequential()\n",
    "    model.add(Flatten())\n",
    "    model.add(Dense(256, activation=\"relu\"))\n",
    "    model.add(Dense(10, activation=\"softmax\"))\n",
    "    myAdam = Adam(learning_rate=0.1)\n",
    "    model.compile(optimizer=myAdam, loss='categorical_crossentropy', metrics=['accuracy'])\n",
    "    return model\n",
    "\n",
    "\n",
    "def image_to_data(path, num):\n",
    "    img = Image.open(path)\n",
    "    numpydata = asarray(img)[:, :, 0]\n",
    "    res = np.array([np.uint8(num), np.uint8(num)])\n",
    "    test_label = to_categorical(res, num_classes=10)\n",
    "    test_image = np.array([numpydata, numpydata]) / 255.0\n",
    "    return test_image, test_label\n",
    "\n",
    "\n",
    "mnist = tf.keras.datasets.mnist\n",
    "(train_images, train_labels), (test_images, test_labels) = mnist.load_data()\n",
    "\n",
    "rain_images = train_images / 255.0\n",
    "test_images = test_images / 255.0\n",
    "rain_labels = to_categorical(train_labels)\n",
    "test_labels = to_categorical(test_labels)\n",
    "\n",
    "plt.imshow(test_images[0], cmap=plt.cm.binary)\n",
    "plt.show()\n",
    "print(train_labels[0])\n",
    "model1 = build('adam')\n",
    "model1.fit(rain_images, rain_labels, epochs=5, batch_size=128)  # заменил все на rain \n",
    "test_loss, test_acc = model1.evaluate(test_images, test_labels)\n",
    "print('test_acc:', test_acc)\n",
    "\n",
    "\n",
    "model = build('sgd')\n",
    "model.fit(rain_images, rain_labels, epochs=5, batch_size=128)\n",
    "test_loss, test_acc = model.evaluate(test_images, test_labels)\n",
    "print('test_acc:', test_acc)\n",
    "\n",
    "model = build('RMSprop')\n",
    "model.fit(rain_images, rain_labels, epochs=5, batch_size=128)\n",
    "test_loss, test_acc = model.evaluate(test_images, test_labels)\n",
    "print('test_acc:', test_acc)\n",
    "\n",
    "model = build_adam2()\n",
    "model.fit(rain_images, rain_labels, epochs=5, batch_size=128)\n",
    "test_loss, test_acc = model.evaluate(test_images, test_labels)\n",
    "print('test_acc:', test_acc)\n"
   ]
  },
  {
   "cell_type": "markdown",
   "metadata": {},
   "source": [
    "Далее загрузка собственных данных"
   ]
  },
  {
   "cell_type": "code",
   "execution_count": 2,
   "metadata": {},
   "outputs": [
    {
     "name": "stdout",
     "output_type": "stream",
     "text": [
      "1/1 [==============================] - 0s 17ms/step - loss: 0.0188 - accuracy: 1.0000\n",
      "test_acc: 1.0\n"
     ]
    }
   ],
   "source": [
    "test_images, test_labels = image_to_data('test.tif', 3)\n",
    "test_loss, test_acc = model1.evaluate(test_images, test_labels)\n",
    "print('test_acc:', test_acc)"
   ]
  }
 ],
 "metadata": {
  "interpreter": {
   "hash": "df642eef7b43fe7a4a517bca7a97690968a466268416ac555ac71584a4a4c66c"
  },
  "kernelspec": {
   "display_name": "Python 3.9.7 64-bit",
   "language": "python",
   "name": "python3"
  },
  "language_info": {
   "codemirror_mode": {
    "name": "ipython",
    "version": 3
   },
   "file_extension": ".py",
   "mimetype": "text/x-python",
   "name": "python",
   "nbconvert_exporter": "python",
   "pygments_lexer": "ipython3",
   "version": "3.9.7"
  },
  "orig_nbformat": 4
 },
 "nbformat": 4,
 "nbformat_minor": 2
}
